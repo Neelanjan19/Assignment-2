{
 "cells": [
  {
   "cell_type": "code",
   "execution_count": 2,
   "metadata": {},
   "outputs": [],
   "source": [
    "# Task 1\n",
    "# Q1.1\n",
    "\n",
    "l=[2,3,4,5,6,7,8]\n",
    "def myreduce():\n",
    "    a=0\n",
    "    for i in l:\n",
    "        a=a+i\n",
    "    return a"
   ]
  },
  {
   "cell_type": "code",
   "execution_count": 3,
   "metadata": {},
   "outputs": [
    {
     "data": {
      "text/plain": [
       "35"
      ]
     },
     "execution_count": 3,
     "metadata": {},
     "output_type": "execute_result"
    }
   ],
   "source": [
    "myreduce()"
   ]
  },
  {
   "cell_type": "code",
   "execution_count": 9,
   "metadata": {},
   "outputs": [],
   "source": [
    "# Task 1\n",
    "# Q 1.2\n",
    "\n",
    "l=[2,3,4,5,6,7,8]\n",
    "m=[]\n",
    "def myfilter():\n",
    "    for i in l:\n",
    "        if i%2==0:\n",
    "            m.append(i)\n",
    "    return m"
   ]
  },
  {
   "cell_type": "code",
   "execution_count": 10,
   "metadata": {},
   "outputs": [
    {
     "data": {
      "text/plain": [
       "[2, 4, 6, 8]"
      ]
     },
     "execution_count": 10,
     "metadata": {},
     "output_type": "execute_result"
    }
   ],
   "source": [
    "myfilter()"
   ]
  },
  {
   "cell_type": "code",
   "execution_count": 3,
   "metadata": {},
   "outputs": [],
   "source": [
    "# Task 1\n",
    "# Q3\n",
    "\n",
    "def longestword(li):\n",
    "    longest=li[0]\n",
    "    for i in li:\n",
    "        if len(longest)<len(i):\n",
    "            longest=i\n",
    "    return longest"
   ]
  },
  {
   "cell_type": "code",
   "execution_count": 4,
   "metadata": {},
   "outputs": [
    {
     "data": {
      "text/plain": [
       "'birdly'"
      ]
     },
     "execution_count": 4,
     "metadata": {},
     "output_type": "execute_result"
    }
   ],
   "source": [
    "longestword(['neel','maiti','birdly'])"
   ]
  },
  {
   "cell_type": "code",
   "execution_count": 12,
   "metadata": {},
   "outputs": [],
   "source": [
    "# Task 2\n",
    "# Q 1.1\n",
    "class polygon:\n",
    "    def __init__(self,no_of_sides):\n",
    "        self.no_of_sides=no_of_sides\n",
    "    def print_num_sides(self):\n",
    "        print(\"The no of sides is \" + str(self.no_of_sides))\n",
    "class triangle(polygon):\n",
    "    def __init__(self,length_of_sides):\n",
    "        polygon.__init__(self,no_of_sides=3)\n",
    "        self.length_of_sides=length_of_sides\n",
    "\n",
    "    def get_area(self):\n",
    "        a,b,c=self.length_of_sides\n",
    "        s=(a+b+c)/2\n",
    "        return (s*(s-a)*(s-b)*(s-c)) ** 0.5"
   ]
  },
  {
   "cell_type": "code",
   "execution_count": 14,
   "metadata": {},
   "outputs": [
    {
     "name": "stdout",
     "output_type": "stream",
     "text": [
      "6.0\n",
      "The no of sides is 3\n"
     ]
    }
   ],
   "source": [
    "t=triangle([3,4,5])\n",
    "print(t.get_area())\n",
    "t.print_num_sides()"
   ]
  },
  {
   "cell_type": "code",
   "execution_count": 7,
   "metadata": {},
   "outputs": [],
   "source": [
    "# Task 2\n",
    "# Q1.2\n",
    "m=[]\n",
    "def long_words(li,n):\n",
    "    for i in li:\n",
    "        if len(i)>n:\n",
    "            m.append(i)\n",
    "    return m"
   ]
  },
  {
   "cell_type": "code",
   "execution_count": 8,
   "metadata": {},
   "outputs": [
    {
     "data": {
      "text/plain": [
       "['elegant', 'symbol']"
      ]
     },
     "execution_count": 8,
     "metadata": {},
     "output_type": "execute_result"
    }
   ],
   "source": [
    "long_words(['neel','elegant','symbol','corns'],5)"
   ]
  },
  {
   "cell_type": "code",
   "execution_count": 4,
   "metadata": {},
   "outputs": [],
   "source": [
    "# Task 2\n",
    "# Q2.1\n",
    "\n",
    "m=[]\n",
    "def words(li):\n",
    "    for i in li:\n",
    "        m.append(len(i))\n",
    "    return m"
   ]
  },
  {
   "cell_type": "code",
   "execution_count": 5,
   "metadata": {},
   "outputs": [
    {
     "data": {
      "text/plain": [
       "[5, 3, 4]"
      ]
     },
     "execution_count": 5,
     "metadata": {},
     "output_type": "execute_result"
    }
   ],
   "source": [
    "words(['apple','mad','rock'])"
   ]
  },
  {
   "cell_type": "code",
   "execution_count": 1,
   "metadata": {},
   "outputs": [],
   "source": [
    "# Task 2\n",
    "# Q2.2\n",
    "\n",
    "v=['a','e','i','o','u']\n",
    "def vowel(n):\n",
    "    for i in v:\n",
    "        if n==i:\n",
    "            return True\n",
    "        else:\n",
    "            return False"
   ]
  },
  {
   "cell_type": "code",
   "execution_count": 2,
   "metadata": {},
   "outputs": [
    {
     "data": {
      "text/plain": [
       "False"
      ]
     },
     "execution_count": 2,
     "metadata": {},
     "output_type": "execute_result"
    }
   ],
   "source": [
    "vowel('n')"
   ]
  },
  {
   "cell_type": "code",
   "execution_count": 2,
   "metadata": {},
   "outputs": [
    {
     "data": {
      "text/plain": [
       "['A', 'C', 'A', 'D', 'G', 'I', 'L', 'D']"
      ]
     },
     "execution_count": 2,
     "metadata": {},
     "output_type": "execute_result"
    }
   ],
   "source": [
    "# Task 1\n",
    "# 2.1\n",
    "\n",
    "list('ACADGILD')"
   ]
  },
  {
   "cell_type": "code",
   "execution_count": 6,
   "metadata": {},
   "outputs": [
    {
     "data": {
      "text/plain": [
       "['x', 'xx', 'xxx', 'xxxx', 'y', 'yy', 'yyy', 'yyyy', 'z', 'zz', 'zzz', 'zzzz']"
      ]
     },
     "execution_count": 6,
     "metadata": {},
     "output_type": "execute_result"
    }
   ],
   "source": [
    "# Task 1\n",
    "# 2.2\n",
    "\n",
    "l=['x','y','z']\n",
    "l1=[]\n",
    "for i in l:\n",
    "    l1.append(i)\n",
    "    l1.append(i*2)\n",
    "    l1.append(i*3)\n",
    "    l1.append(i*4)\n",
    "l1"
   ]
  },
  {
   "cell_type": "code",
   "execution_count": 11,
   "metadata": {},
   "outputs": [
    {
     "data": {
      "text/plain": [
       "['x', 'y', 'z', 'xx', 'yy', 'zz', 'xxx', 'yyy', 'zzz', 'xxxx', 'yyyy', 'zzzz']"
      ]
     },
     "execution_count": 11,
     "metadata": {},
     "output_type": "execute_result"
    }
   ],
   "source": [
    "# Task 1\n",
    "# 2.3\n",
    "\n",
    "l=['x','y','z']\n",
    "l2=[]\n",
    "for i in l:\n",
    "    l2.append(i)\n",
    "for i in l:\n",
    "    l2.append(i*2)\n",
    "for i in l:\n",
    "    l2.append(i*3)\n",
    "for i in l:\n",
    "    l2.append(i*4)\n",
    "    \n",
    "l2"
   ]
  },
  {
   "cell_type": "code",
   "execution_count": 44,
   "metadata": {},
   "outputs": [
    {
     "data": {
      "text/plain": [
       "[2, 3, 4, 5, 3, 4, 5, 6, 4, 5, 6, 7, 5, 6, 7, 8]"
      ]
     },
     "execution_count": 44,
     "metadata": {},
     "output_type": "execute_result"
    }
   ],
   "source": [
    "# Task 1\n",
    "# 2.5\n",
    "\n",
    "l4=[]\n",
    "\n",
    "for i in range(2,6):\n",
    "    for j in [0,1,2,3]:\n",
    "        l4.append(i+j)\n",
    "\n",
    "l4"
   ]
  },
  {
   "cell_type": "code",
   "execution_count": 39,
   "metadata": {},
   "outputs": [
    {
     "data": {
      "text/plain": [
       "[[2], [3], [4], [3], [4], [5], [4], [5], [6]]"
      ]
     },
     "execution_count": 39,
     "metadata": {},
     "output_type": "execute_result"
    }
   ],
   "source": [
    "# Task 1\n",
    "# 2.4\n",
    "\n",
    "m=[]\n",
    "for i in range(2,5):\n",
    "    for j in [0,1,2]:\n",
    "        m.append([i+j])\n",
    "\n",
    "m"
   ]
  },
  {
   "cell_type": "code",
   "execution_count": 45,
   "metadata": {},
   "outputs": [
    {
     "data": {
      "text/plain": [
       "[(1, 1), (2, 1), (3, 1), (1, 2), (2, 2), (3, 2), (1, 3), (2, 3), (3, 3)]"
      ]
     },
     "execution_count": 45,
     "metadata": {},
     "output_type": "execute_result"
    }
   ],
   "source": [
    "# Task 1\n",
    "# 2.6\n",
    "\n",
    "l3=[]\n",
    "for i in [1,2,3]:\n",
    "    for j in [1,2,3]:\n",
    "        l3.append((j,i))\n",
    "\n",
    "l3"
   ]
  },
  {
   "cell_type": "code",
   "execution_count": null,
   "metadata": {},
   "outputs": [],
   "source": []
  }
 ],
 "metadata": {
  "kernelspec": {
   "display_name": "Python 3",
   "language": "python",
   "name": "python3"
  },
  "language_info": {
   "codemirror_mode": {
    "name": "ipython",
    "version": 3
   },
   "file_extension": ".py",
   "mimetype": "text/x-python",
   "name": "python",
   "nbconvert_exporter": "python",
   "pygments_lexer": "ipython3",
   "version": "3.7.3"
  }
 },
 "nbformat": 4,
 "nbformat_minor": 2
}
